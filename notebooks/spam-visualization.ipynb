{
 "cells": [
  {
   "cell_type": "code",
   "execution_count": null,
   "id": "717d3006",
   "metadata": {
    "vscode": {
     "languageId": "plaintext"
    }
   },
   "outputs": [],
   "source": [
    "import pandas as pd\n",
    "import matplotlib.pyplot as plt\n",
    "import seaborn as sns\n",
    "\n",
    "# Load the data\n",
    "df = pd.read_csv('../datasets/spambase.csv')\n",
    "\n",
    "# Preview\n",
    "print(df.head())\n",
    "\n",
    "# Plot spam vs non-spam counts\n",
    "sns.countplot(x=df.iloc[:, -1])\n",
    "plt.title('Spam vs Non-Spam Emails')\n",
    "plt.xlabel('Email Type (0 = Ham, 1 = Spam)')\n",
    "plt.ylabel('Count')\n",
    "plt.show()\n",
    "\n",
    "# Example: Visualize word frequency columns\n",
    "plt.figure(figsize=(10, 6))\n",
    "sns.histplot(df['word_freq_make'], bins=20, kde=True)\n",
    "plt.title(\"Frequency of 'make' Word in Emails\")\n",
    "plt.show()\n"
   ]
  }
 ],
 "metadata": {
  "language_info": {
   "name": "python"
  }
 },
 "nbformat": 4,
 "nbformat_minor": 5
}
